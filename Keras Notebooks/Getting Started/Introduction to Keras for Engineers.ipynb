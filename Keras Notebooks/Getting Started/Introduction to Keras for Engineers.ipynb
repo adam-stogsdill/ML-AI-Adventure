{
 "cells": [
  {
   "cell_type": "markdown",
   "metadata": {
    "pycharm": {
     "name": "#%% md\n"
    }
   },
   "source": [
    "### Introduction to Keras for Engineers"
   ]
  },
  {
   "cell_type": "code",
   "execution_count": 1,
   "metadata": {
    "pycharm": {
     "name": "#%%\n"
    }
   },
   "outputs": [],
   "source": [
    "# Setup\n",
    "import numpy as np\n",
    "import tensorflow as tf\n",
    "from tensorflow import keras"
   ]
  },
  {
   "cell_type": "markdown",
   "metadata": {
    "pycharm": {
     "name": "#%% md\n"
    }
   },
   "source": [
    "### Introduction\n",
    "\n",
    "Are you a machine learning engineer looking to use Keras to ship deep-learning powered features in real products? This guide will\n",
    "server as your first introduction to core Keras API concepts.\n",
    "\n",
    "In this guide, you will learn how to:\n",
    "\n",
    "* Prepare your data before training a model (by turning it into either NumPy arrays or tf.data.Dataset objects)\n",
    "* Do data preprocessing, for instance feature normalization or vocabulary indexing.\n",
    "* Build a model that turns your data into useful predictions, useing the Keras Functional API.\n",
    "* Train your model with the built-in Keras fit() function, while being mindful of checkpointing, metrics monitoring, and fault tolerance\n",
    "* Evaluate your model on a test dataset and how to use it for inference on new data.\n",
    "* Customize what fit() does, for instance to build a GAN.\n",
    "* Speed up training by leveraging multiple GPUs.\n",
    "* Refine your model through hyperparameter tuning.\n",
    "\n",
    "As the end of this guide, you will get pointers to end-to-end examples to solidify these concepts:\n",
    "\n",
    "* Image classification\n",
    "* Text classification\n",
    "* Credit card fraud detection"
   ]
  },
  {
   "cell_type": "markdown",
   "metadata": {
    "pycharm": {
     "name": "#%% md\n"
    }
   },
   "source": [
    "### Data loading & preprocessing\n",
    "\n",
    "Neural networks don't process raw data, like text files, encoded JPEG image files, or CSV files. They process vectorized & standardized representations.\n",
    "\n",
    "* Text files need to be read into string tensors, then split into words. Finally, the words need to be indexed and turned into integer tensors.\n",
    "* Images need to be read and decoded into integer tensors, then converted to floating point and normalized to small values (usually between 0 and 1).\n",
    "* CSV data needs to be parsed, with numercial features converted to floating point tensors and categorical features indexed and converted to integer tensors. Then each feature typically needs to be normalized to zero-mean and unit-variance.\n",
    "* Etc.\n",
    "\n",
    "Let's start with data loading."
   ]
  },
  {
   "cell_type": "markdown",
   "metadata": {
    "pycharm": {
     "name": "#%% md\n"
    }
   },
   "source": [
    "### Data Loading\n",
    "\n",
    "Keras models accept three types of inputs:\n",
    "\n",
    "* NumPy arrays, just like Scikit-learn and many other Python-based libraries. This is a good option if your data fits in memory.\n",
    "* Tensorflow Dataset Objects. This is a high-performance option that is more suitable for datasets that do not fit in memory and that are streamed from disk or from a distributed file system.\n",
    "* Python generators that yield batches of data (such as custom subclasses of the keras.utils.Sequence class).\n",
    "\n",
    "Before you start training a model, you will need to make your data available as one of these formants. If you have a large dataset and you are training on GPU(s), consider using Dataset objects, since they will take care of performance-critical details, such as:\n",
    "\n",
    "* Asynchronously preprocessing your data on CPU while your GPU is busy, and buffering it into a queue.\n",
    "* Prefetching data on GPU memory so it's immediately available when the GPU has finished processing the previous batch, so you can reach full GPU utilization.\n",
    "\n",
    "Kerras features a range of utilities to help you turn raw data on disk into a Dataset:\n",
    "\n",
    "* tf.keras.preprocessing.image_dataset_from_directory turns image files sorted into class-specific folders into a labeled dataset of image tensors.\n",
    "* tf.keras.preprocessing.text_dataset_from_directory does the same for text files.\n",
    "\n",
    "In addition, the TensorFlow tf.data includes other similar utilities, such as tf.data.experimental.make_csv_dataset to load structured data from CSV files.\n"
   ]
  },
  {
   "cell_type": "code",
   "execution_count": null,
   "metadata": {
    "pycharm": {
     "name": "#%%\n"
    }
   },
   "outputs": [],
   "source": [
    "\"\"\"\n",
    "Example: obtaining a labeled dataset from image files on disk\n",
    "\n",
    "Supposed you have image files sorted by class in different folder, like this:\n",
    "\n",
    "main_directory/\n",
    "...class_a/\n",
    "......a_image_1.jpg\n",
    "......a_image_2.jpg\n",
    "...class_b/\n",
    "......b_image_1.jpg\n",
    "......b_image_2.jpg\n",
    "\n",
    "Then you can do:\n",
    "\"\"\"\n",
    "\n",
    "dataset = keras.preprocessing.image_dataset_from_directory(\"PATH_TO_MAIN_DIRECTORY\", batch_size=64, image_size=(200,200))\n",
    "\n",
    "for data, labels in dataset:\n",
    "    print(data.shape)   # (64, 200, 200, 3)\n",
    "    print(data.dtype)   # float32\n",
    "    print(labels.shape) # (64, )\n",
    "    print(labels.dtype) # int32"
   ]
  },
  {
   "cell_type": "markdown",
   "metadata": {
    "pycharm": {
     "name": "#%% md\n"
    }
   },
   "source": [
    "The label of a sample is the rank of its folder in alphanumeric order. Naturally, this can also be configured explicitly\n",
    "by passing, e.g. class_names = ['class_a', 'class_b'], in which cases label 0 will be class_a and 1 will be class_b.\n",
    "\n",
    "**Example: obtaining a labeled dataset from text files on disk**\n",
    "\n",
    "Likewise for text: if you have .txt documents sorted by class in different folder, you can do:"
   ]
  },
  {
   "cell_type": "code",
   "execution_count": null,
   "metadata": {
    "pycharm": {
     "name": "#%%\n"
    }
   },
   "outputs": [],
   "source": [
    "dataset = keras.preprocessing.text_dataset_from_directory('path/to/main_directory', batch_size=64)\n",
    "\n",
    "# For demonstration, iterate over the batches yielded by the dataset.\n",
    "for data, labels in dataset:\n",
    "    print(data.shape)   # (64, )\n",
    "    print(data.dtype)   # string\n",
    "    print(labels.shape) # (64, )\n",
    "    print(labels.dtype) # int32"
   ]
  },
  {
   "cell_type": "markdown",
   "metadata": {
    "pycharm": {
     "name": "#%% md\n"
    }
   },
   "source": [
    "### Data preprocessing with Keras\n",
    "\n",
    "Once your data is in the form of string/int/float NumpPy arrays, or a Dataset object (or Python generator) that yields batches of\n",
    "string/int/float tensors, it is time to **preprocess** the data. This can mean:\n",
    "\n",
    " * Tokenization of string data, followed by token indexing\n",
    " * Feature normalization\n",
    " * Rescaling the data to small values (in general, input values to a neural network should be close to zero --\n",
    "  typically we expect either data with zero-mean and unit-variance, or data in the [0, 1] range.)\n",
    "\n",
    "#### The ideal machine learning model is end-to-end\n",
    "\n",
    "In genreal, you should seek to do data preprocessing **as part of your model** as much as possible, not via an external data\n",
    "preprocessing pipeline. That's because external data preprocessing makes your models less portable when it's time to use them in production.\n",
    "Consider a model that processes text: it uses a specific tokenization algorithm and a specific vocabulary index. When you want to ship your model\n",
    "to a mobile app or a JavaScript app, you will need to recreate the exact same preprocessing setup in the target language. This can get very tricky:\n",
    "any small discrepancy between the original pipeline and the one you recreate has the potential to completely invalidate your model, or at least\n",
    "severly degrade its performance.\n",
    "\n",
    "It would be much easier to be able to simply export an end-to-end model that already includes preprocessing. **The ideal model should expect as input something\n",
    "as closeas possible to raw data: an image model should expect RGB pixel values in the [0, 255] range, and a text model should accept strings of utf-8\n",
    "characters.** That way, the consumer of the exported model doesn't have to know about the preprocessing pipeline."
   ]
  },
  {
   "cell_type": "markdown",
   "metadata": {
    "pycharm": {
     "name": "#%% md\n"
    }
   },
   "source": [
    "### Using Keras preprocessing layers\n",
    "\n",
    "In Keras, you do in-model data preprocessing via **preprocessing layers**. This includes:\n",
    "* Vectorizing raw strings of text via the TextVectorization layer\n",
    "* Features normalization via the Normalization layer\n",
    "* Image rescaling, cropping, or image data augmentation\n",
    "\n",
    "THe key advantage of using Keras preprocessing layers is that **they can be included directly into your model,\n",
    "** either during training or after training, which makes your models portable.\n",
    "\n",
    "Some preprocessing layers have a state:\n",
    "* TextVectorization holds an index maping words or token to integer indices\n",
    "* Normalization holds the mean and variance of your features\n",
    "\n",
    "The state of a preprocessing layer is obtained yb calling layer.adapt(data) on a smaple of the training data\n",
    "(or all of it).\n",
    "\n",
    "**Example: turning strings into sequences of integer word indices**"
   ]
  },
  {
   "cell_type": "code",
   "execution_count": null,
   "metadata": {
    "pycharm": {
     "name": "#%%\n"
    }
   },
   "outputs": [],
   "source": [
    "from tensorflow.keras.layers import TextVectorization\n",
    "\n",
    "# Example training data, of dtype 'strings'.\n",
    "training_data = np.array([[\"This is the 1st sample.\"], [\"And here's the 2nd sample.\"]])\n",
    "\n",
    "# Create a TextVectorization layer instance. It can be configured to either\n",
    "# return integer token indices, or a dense token representation (e.g multi-hot\n",
    "# or TF-IDF). The text standardization and text splitting algorithms are fully\n",
    "# configurable.\n",
    "vectorizer = TextVectorization(output_mode='int')\n",
    "\n",
    "# Calling 'adapt' on an array or dataset makes the layer generate a vocabulary\n",
    "# index for the data, which can then be reused when seeing new data.\n",
    "vectorizer.adapt(training_data)\n",
    "\n",
    "# After calling adapt, the layer is able to encode any n-gram it has seen before in the\n",
    "# 'adapt()' data. Unknown n-grams are e ncoded via an \"out-of-vocabulary\"\n",
    "# token."
   ]
  },
  {
   "cell_type": "markdown",
   "metadata": {
    "pycharm": {
     "name": "#%% md\n"
    }
   },
   "source": [
    "**Example: turning strings into sequences of one-hot encoded bigrams**"
   ]
  },
  {
   "cell_type": "code",
   "execution_count": null,
   "metadata": {
    "pycharm": {
     "name": "#%%\n"
    }
   },
   "outputs": [],
   "source": [
    "from tensorflow.keras.layers import TextVectorization\n",
    "\n",
    "# Example training data, of dtype `string`.\n",
    "training_data = np.array([[\"This is the 1st sample.\"], [\"And here's the 2nd sample.\"]])\n",
    "\n",
    "# Create a TextVectorization layer instance. It can be configured to either\n",
    "# return integer token indices, or a dense token representation (e.g. multi-hot\n",
    "# or TF-IDF). The text standardization and text splitting algorithms are fully\n",
    "# configurable.\n",
    "vectorizer = TextVectorization(output_mode=\"binary\", ngrams=2)\n",
    "\n",
    "# Calling `adapt` on an array or dataset makes the layer generate a vocabulary\n",
    "# index for the data, which can then be reused when seeing new data.\n",
    "vectorizer.adapt(training_data)\n",
    "\n",
    "# After calling adapt, the layer is able to encode any n-gram it has seen before\n",
    "# in the `adapt()` data. Unknown n-grams are encoded via an \"out-of-vocabulary\"\n",
    "# token.\n",
    "integer_data = vectorizer(training_data)\n",
    "print(integer_data)"
   ]
  },
  {
   "cell_type": "markdown",
   "metadata": {
    "pycharm": {
     "name": "#%% md\n"
    }
   },
   "source": [
    "**Example: normalizing features**"
   ]
  },
  {
   "cell_type": "code",
   "execution_count": null,
   "metadata": {
    "pycharm": {
     "name": "#%%\n"
    }
   },
   "outputs": [],
   "source": [
    "from tensorflow.keras.layers import Normalization\n",
    "\n",
    "# Example image data, with values in the [0, 255] range\n",
    "training_data = np.random.randint(0, 256, size=(64, 200, 200, 3)).astype(\"float32\")\n",
    "\n",
    "normalizer = Normalization(axis=-1)\n",
    "normalizer.adapt(training_data)\n",
    "\n",
    "normalized_data = normalizer(training_data)\n",
    "print(\"var: %.4f\" % np.var(normalized_data))\n",
    "print(\"mean: %.4f\" % np.mean(normalized_data))"
   ]
  },
  {
   "cell_type": "markdown",
   "metadata": {
    "pycharm": {
     "name": "#%% md\n"
    }
   },
   "source": [
    "**Example: rescaling & center-cropping images**\n",
    "\n",
    "Both the Rescaling layer and the CenterCrop layer are stateless, so it isn't necessary to call adapt() in this case"
   ]
  },
  {
   "cell_type": "code",
   "execution_count": null,
   "metadata": {
    "pycharm": {
     "name": "#%%\n"
    }
   },
   "outputs": [],
   "source": [
    "from tensorflow.keras.layers import CenterCrop\n",
    "from tensorflow.keras.layers import Rescaling\n",
    "\n",
    "# Example image data, with values in the [0, 255] range\n",
    "training_data = np.random.randint(0, 256, size=(54, 200, 200, 3)).astype(\"float32\")\n",
    "\n",
    "cropper = CenterCrop(height=150, width=150)\n",
    "scaler = Rescaling(scale=1.0/255)\n",
    "\n",
    "output_data = scaler(cropper(training_data))\n",
    "print(\"shape:\", output_data.shape)\n",
    "print(\"min:\", np.min(output_data))\n",
    "print(\"max:\", np.max(output_data))"
   ]
  },
  {
   "cell_type": "markdown",
   "metadata": {
    "pycharm": {
     "name": "#%% md\n"
    }
   },
   "source": [
    "### Building models with the Keras Functional API\n",
    "\n",
    "A \"layer\" is a simple input-output transformation (such as the scaling & center-cropping transformations above).\n",
    "For instance, here's a linear projection layer that maps its inputs to a 16-dimensional feature space:"
   ]
  },
  {
   "cell_type": "code",
   "execution_count": null,
   "metadata": {
    "pycharm": {
     "name": "#%%\n"
    }
   },
   "outputs": [],
   "source": [
    "dense = keras.layers.Dense(units=16)"
   ]
  },
  {
   "cell_type": "markdown",
   "metadata": {
    "pycharm": {
     "name": "#%% md\n"
    }
   },
   "source": [
    "A \"model\" is a directed acyclic graph of layers. You can think of a model as a \"bigger layer\" that encompasses multiple sublayers and that can be trained via exposure to data.\n",
    "\n",
    "The most common and most powerful way to build Keras models is the Functional API. To build modes with the Functional API, you start by specifying the shape (and optionally the dtype) of your inputs. If any dimension of your input can vary, you can specify it as None. For instance, an input for 200x200 RGB image would have shape (200, 200, 3), but an input for RGB images of any size would have shape (None, None, 3)."
   ]
  },
  {
   "cell_type": "markdown",
   "metadata": {
    "pycharm": {
     "name": "#%% md\n"
    }
   },
   "source": [
    "# Let's say we expect our inputs to be RGB images of arbitrary size\n",
    "inputs = keras.Input(shape=(None, None, 3))"
   ]
  },
  {
   "cell_type": "markdown",
   "metadata": {
    "pycharm": {
     "name": "#%% md\n"
    }
   },
   "source": [
    "After defining your input(s), you can chain layer tarnsformation on top of your inputs, until your final output:"
   ]
  },
  {
   "cell_type": "code",
   "execution_count": null,
   "metadata": {
    "pycharm": {
     "name": "#%%\n"
    }
   },
   "outputs": [],
   "source": [
    "from tensorflow.kears import layers\n",
    "\n",
    "# Center-crop images to 150x150\n",
    "x = CenterCrop(height=150, width=150)(inputs)\n",
    "# Rescale images to [0,1]\n",
    "x = Rescaling(scale=1.0/255)(x)\n",
    "\n",
    "# Apply some convolution and pooling layers\n",
    "x = layers.Conv2D(filters=32, kernel_size=(3,3), activation='relu')(x)\n",
    "x = layers.MaxPooling2D(pool_size=(3, 3))(x)\n",
    "x = layers.Conv2D(filters=32, kernel_size=(3, 3), activation=\"relu\")(x)\n",
    "x = layers.MaxPooling2D(pool_size=(3, 3))(x)\n",
    "x = layers.Conv2D(filters=32, kernel_size=(3, 3), activation=\"relu\")(x)\n",
    "\n",
    "# Apply global average pooling to get flat feature vectors\n",
    "x = layers.GlobalAveragePooling2D()(x)\n",
    "\n",
    "# Add a dense classifier on top\n",
    "num_classes = 10\n",
    "outputs = layers.Dense(num_classes, activation=\"softmax\")(x)"
   ]
  },
  {
   "cell_type": "markdown",
   "metadata": {
    "pycharm": {
     "name": "#%% md\n"
    }
   },
   "source": [
    "Once you have defined the directed acyclic graph of layers that turns your input(s) into your outputs, instantiate a Model object:"
   ]
  },
  {
   "cell_type": "code",
   "execution_count": null,
   "metadata": {
    "pycharm": {
     "name": "#%%\n"
    }
   },
   "outputs": [],
   "source": [
    "model = keras.Model(inputs=inputs, outputs=outputs)"
   ]
  },
  {
   "cell_type": "markdown",
   "metadata": {
    "pycharm": {
     "name": "#%% md\n"
    }
   },
   "source": [
    "This model behaves basically like a bigger layer. You can call it on batches of data, like this:"
   ]
  },
  {
   "cell_type": "code",
   "execution_count": null,
   "metadata": {
    "pycharm": {
     "name": "#%%\n"
    }
   },
   "outputs": [],
   "source": [
    "data = np.random.randint(0, 256, size=(64, 200, 200, 3)).astype(\"float32\")\n",
    "processed_data = model(data)\n",
    "print(processed_data.shape)"
   ]
  },
  {
   "cell_type": "markdown",
   "metadata": {
    "pycharm": {
     "name": "#%% md\n"
    }
   },
   "source": [
    "You can print a summary of how your data gets transformed at each stage of the model. This is useful for debugging.\n",
    "\n",
    "Note that the output shape displayed for each layer inclues the **batch size**. Here the batch size is None, which indicates our model can process batches of any size."
   ]
  },
  {
   "cell_type": "code",
   "execution_count": null,
   "metadata": {
    "pycharm": {
     "name": "#%%\n"
    }
   },
   "outputs": [],
   "source": [
    "model.summary()"
   ]
  },
  {
   "cell_type": "markdown",
   "metadata": {
    "pycharm": {
     "name": "#%% md\n"
    }
   },
   "source": [
    "The Functional API also makes it easy to build models that have multiple inputs (for instance, an image and its metadata) or multiple outputs (for instance, predicting the class of the image and the likelihood that a user will click on it). FOr a deeper dive into what you can do, see our guide to the Functiional API."
   ]
  },
  {
   "cell_type": "markdown",
   "metadata": {
    "pycharm": {
     "name": "#%% md\n"
    }
   },
   "source": [
    "### Training models with fit()\n",
    "\n",
    "At this point, you know:\n",
    "* How to prepare your data (e.g. as a NumPy array or a tf.data.Dataset object)\n",
    "* How to build a model that will process yuur data\n",
    "\n",
    "The next step is to train your model on your data. The Model class features a built-in training loop, the fit() method. It accepts Dataset objects, Python generators that yield batches of data, or NumPy arrays.\n",
    "\n",
    "Before youc an call fit(), you need to specify an optimizer and a loss function (we assume you are already familiar with these concepts). This is the compile() step:"
   ]
  },
  {
   "cell_type": "code",
   "execution_count": null,
   "metadata": {
    "pycharm": {
     "name": "#%%\n"
    }
   },
   "outputs": [],
   "source": [
    "model.compile(optimizer=keras.optimizers.RMSprop(learning_rate=1e-3), loss=keras.losses.CategoricalCrossentropy())"
   ]
  },
  {
   "cell_type": "markdown",
   "metadata": {
    "collapsed": false,
    "pycharm": {
     "name": "#%% md\n"
    }
   },
   "source": [
    "Loss and optimizer can be specified via their string identifiers (in this case their default constructor argument values are used):"
   ]
  },
  {
   "cell_type": "code",
   "execution_count": null,
   "metadata": {
    "collapsed": false,
    "pycharm": {
     "name": "#%%\n"
    }
   },
   "outputs": [],
   "source": [
    "model.compile(optimizer='rmsprop', loss='categorical_crossentropy')"
   ]
  },
  {
   "cell_type": "markdown",
   "metadata": {
    "collapsed": false,
    "pycharm": {
     "name": "#%% md\n"
    }
   },
   "source": [
    "Once your model is compiled, you can start \"fitting\" the model to the data. Here's what fitting a model looks like with NumPy data:"
   ]
  },
  {
   "cell_type": "code",
   "execution_count": null,
   "metadata": {
    "collapsed": false,
    "pycharm": {
     "name": "#%%\n"
    }
   },
   "outputs": [],
   "source": [
    "model.fit(numpy_array_of_samples, numpy_array_of_labels, batch_size=32, epochs=10)"
   ]
  },
  {
   "cell_type": "markdown",
   "metadata": {
    "collapsed": false,
    "pycharm": {
     "name": "#%% md\n"
    }
   },
   "source": [
    "Besides the data, you have to specify two key parameters: the batch_size and the number of epochs. Here our data will get sliced on batches of 32 samples, and the model will iterate 1o times over the data during training.\n",
    "\n",
    "Here's what fitting a model looks like with a dataset:"
   ]
  },
  {
   "cell_type": "code",
   "execution_count": null,
   "metadata": {
    "collapsed": false,
    "pycharm": {
     "name": "#%%\n"
    }
   },
   "outputs": [],
   "source": [
    "model.fit(dataset_of_samples_and_labels, epochs=10)"
   ]
  },
  {
   "cell_type": "markdown",
   "metadata": {
    "collapsed": false,
    "pycharm": {
     "name": "#%% md\n"
    }
   },
   "source": [
    "Since the data yielded by a dataset is expected to be already batched, you don't need to specify the batch size here.\n",
    "\n",
    "Let's look at it in practice with a toy example model that learns to classify MNIST digits:"
   ]
  },
  {
   "cell_type": "code",
   "execution_count": null,
   "metadata": {
    "collapsed": false,
    "pycharm": {
     "name": "#%%\n"
    }
   },
   "outputs": [],
   "source": [
    "# Get the data as Numpy arrays\n",
    "(x_train, y_train), (x_test, y_test) = keras.datasets.mnist.load_data()\n",
    "\n",
    "# build a simple model\n",
    "inputs = keras.Input(shape=(28,28))\n",
    "x = layers.Rescaling(1.0 / 255)(inputs)\n",
    "x = layers.Flatten()(x)\n",
    "x = layers.Dense(128, activation='relu')(x)\n",
    "x = layers.Dense(128, activation='relu')(x)\n",
    "outputs = layers.Dense(10, activation='softmax')(x)\n",
    "model = keras.Model(inputs, outputs)\n",
    "model.summary()\n",
    "\n",
    "# Compile the model\n",
    "model.compile(optimizer=\"adam\", loss=\"sparse_categorical_crossentropy\")\n",
    "\n",
    "# Train the model for 1 epoch from Numpy data\n",
    "batch_size = 64\n",
    "print(\"Fit on NumPy data\")\n",
    "history = model.fit(x_train, y_train, batch_size = batch_size, epochs=1)\n",
    "print(history)\n",
    "\n",
    "# Train the model for 1 epoch using a dataset\n",
    "dataset = tf.data.Dataset.from_tensor_slices((x_train, y_train)).batch(batch_size)\n",
    "print(\"Fit on Dataset\")\n",
    "history = model.fit(dataset, epochs=1)\n",
    "print(history)"
   ]
  },
  {
   "cell_type": "markdown",
   "metadata": {
    "collapsed": false,
    "pycharm": {
     "name": "#%% md\n"
    }
   },
   "source": [
    "The fit() call returns a \"history\" object which records what happened over the course of training. The history.history dict contains per-epoch timeseries of metrics values (here we have only one metric the loss, and one epoch, so we only get a single scalar):"
   ]
  },
  {
   "cell_type": "code",
   "execution_count": null,
   "metadata": {
    "collapsed": false,
    "pycharm": {
     "name": "#%%\n"
    }
   },
   "outputs": [],
   "source": [
    "print(history.history)"
   ]
  },
  {
   "cell_type": "markdown",
   "metadata": {
    "collapsed": false,
    "pycharm": {
     "name": "#%% md\n"
    }
   },
   "source": [
    "For a detailed overview of how to user fit(), see the guide to training & evaluation with the built-in Keras methods."
   ]
  },
  {
   "cell_type": "markdown",
   "metadata": {
    "collapsed": false,
    "pycharm": {
     "name": "#%% md\n"
    }
   },
   "source": [
    "### Keeping track of performance metrics\n",
    "\n",
    "As you're training a model, you want to keep track of metrics such as classification accuracy, precision, recall, AUC, etc.\n",
    "Besides, you want to monitor these metrics not only the training data, but also on a validation set.\n",
    "\n",
    "**Monitoring metrics**\n",
    "\n",
    "You can pass a list of metrics objects to compile(), like this:"
   ]
  },
  {
   "cell_type": "code",
   "execution_count": null,
   "metadata": {
    "collapsed": false,
    "pycharm": {
     "name": "#%%\n"
    }
   },
   "outputs": [],
   "source": [
    "model.compile(\n",
    "    optimizer=\"adam\",\n",
    "    loss=\"sparse_categorical_crossentropy\",\n",
    "    metrics=[keras.metrics.SparseCategoricalAccuracy(name=\"acc\")]\n",
    ")\n",
    "history = model.fit(dataset, epochs=1)"
   ]
  },
  {
   "cell_type": "markdown",
   "metadata": {
    "collapsed": false,
    "pycharm": {
     "name": "#%% md\n"
    }
   },
   "source": [
    "**Passing validation data to fit()**\n",
    "\n",
    "You can pass validation data to fit() to monitor your validation loss & validation metrics. Validation metrics get reported at the end of each epoch."
   ]
  },
  {
   "cell_type": "code",
   "execution_count": null,
   "metadata": {
    "collapsed": false,
    "pycharm": {
     "name": "#%%\n"
    }
   },
   "outputs": [],
   "source": [
    "val_dataset = tf.data.Dataset.from_tensor_slices((x_test, y_test)).batch(batch_size)\n",
    "history = model.fit(dataset, epochs=1, validation_data=val_dataset)"
   ]
  },
  {
   "cell_type": "markdown",
   "metadata": {
    "collapsed": false,
    "pycharm": {
     "name": "#%% md\n"
    }
   },
   "source": [
    "### Using callbacks for checkpointing (and more)\n",
    "\n",
    "If training goes on for more than a few minutes, it's important to save your model at regular intervals during training. You can then use your saved models to restart training in case your training process crashes (this is important for multi-worker distributed training, since with many workers at least one of them is bound to fail at some point).\n",
    "\n",
    "An important feature of Keras is **callbacks**, configured in fit(). Callbacks are objects that get called by the model at different point during training, in particular:\n",
    "\n",
    "* At the beginning and end of each batch\n",
    "* At the beginning and end of each epoch\n",
    "\n",
    "Callbacks are a way to make model trainable entirely scriptable.\n",
    "\n",
    "You can use callbacks to periodically save your model. Here's a simple example: a Model Checkpoint\n",
    "callback configured to save the model at the end of every epoch. The filename will include the current epoch."
   ]
  },
  {
   "cell_type": "code",
   "execution_count": null,
   "metadata": {
    "collapsed": false,
    "pycharm": {
     "name": "#%%\n"
    }
   },
   "outputs": [],
   "source": [
    "callbacks = [\n",
    "    keras.callbacks.ModelCheckpoint(\n",
    "        filepath='path/to/my/model_{epoch}',\n",
    "        save_freq='epoch'\n",
    "    )\n",
    "]\n",
    "model.fit(dataset, epochs=2, callbacks=callbacks)"
   ]
  },
  {
   "cell_type": "markdown",
   "metadata": {
    "collapsed": false,
    "pycharm": {
     "name": "#%% md\n"
    }
   },
   "source": []
  },
  {
   "cell_type": "code",
   "execution_count": null,
   "metadata": {
    "collapsed": false,
    "pycharm": {
     "name": "#%%\n"
    }
   },
   "outputs": [],
   "source": [
    "callbacks = [\n",
    "    keras.callbacks.TensorBoard(log_dir=\"./logs\")\n",
    "]\n",
    "model.fit(dataset, epochs=2, callbacks=callbacks)"
   ]
  },
  {
   "cell_type": "markdown",
   "metadata": {
    "collapsed": false,
    "pycharm": {
     "name": "#%% md\n"
    }
   },
   "source": [
    "You can then launch a TensorBoard instance that you can open in your browser to monitor the logs getting written to this location:"
   ]
  },
  {
   "cell_type": "code",
   "execution_count": null,
   "metadata": {
    "collapsed": false,
    "pycharm": {
     "name": "#%%\n"
    }
   },
   "outputs": [],
   "source": [
    "tensorboard --logdir=./logs"
   ]
  },
  {
   "cell_type": "markdown",
   "metadata": {
    "collapsed": false,
    "pycharm": {
     "name": "#%% md\n"
    }
   },
   "source": [
    "What's more, you can launch an in-line TensorBoard tab when training models in Jupyter/Colab notebooks.\n",
    "\n",
    "### After fit(): evaluating test performance & generating predictions on new data\n",
    "\n",
    "Once you have a trained model, you can evaluate its loss and metrics on new data via evaluate():"
   ]
  },
  {
   "cell_type": "code",
   "execution_count": null,
   "metadata": {
    "collapsed": false,
    "pycharm": {
     "name": "#%%\n"
    }
   },
   "outputs": [],
   "source": [
    "loss, acc = model.evaluate(val_dataset) # returns loss and metrics\n",
    "print(\"loss: %.2f\" % loss)\n",
    "print(\"acc: %.2f\" % acc)"
   ]
  },
  {
   "cell_type": "markdown",
   "metadata": {
    "collapsed": false,
    "pycharm": {
     "name": "#%% md\n"
    }
   },
   "source": [
    "You can also generate NumPy arrays of predictions (the activations of the output layer(s) in the model) via predict():"
   ]
  },
  {
   "cell_type": "code",
   "execution_count": null,
   "metadata": {
    "collapsed": false,
    "pycharm": {
     "name": "#%%\n"
    }
   },
   "outputs": [],
   "source": [
    "predictions = model.predict(val_dataset)\n",
    "print(predictions.shape)"
   ]
  },
  {
   "cell_type": "markdown",
   "metadata": {
    "collapsed": false,
    "pycharm": {
     "name": "#%% md\n"
    }
   },
   "source": [
    "# Usuing fit() with a custom training step\n",
    "\n",
    "By default, fit() is configured for supervised learning. If you need a different kind of training loop (for instance, a GAN training loop), you can provide your own implementation of Model.train_step() method. This is the method that is repeatedly called during fit().\n",
    "\n",
    "Metrics, callbacks, etc. will workd as usual.\n",
    "\n",
    "Here's a simple example that reimplements what fit() normally does:"
   ]
  },
  {
   "cell_type": "code",
   "execution_count": null,
   "metadata": {
    "collapsed": false,
    "pycharm": {
     "name": "#%%\n"
    }
   },
   "outputs": [],
   "source": [
    "class CustomModel(keras.Model):\n",
    "\n",
    "    def train_step(self, data):\n",
    "        # Unpack the data. Its structure depends on your model and\n",
    "        # on what you pass to 'fit()'\n",
    "        x, y = data\n",
    "        with tf.GradientTape() as tape:\n",
    "            y_pred = self(x, training=True) # Forward Pass\n",
    "            # Compute the loss value\n",
    "            # (the loss function is configured in 'compile()')\n",
    "            loss = self.compiled_loss(y, y_pred, regularization_loss=self.loss)\n",
    "\n",
    "        # Compute gradients\n",
    "        trainable_vars = self.trainable_variables\n",
    "        gradients = tape.gradient(loss, trainable_vars)\n",
    "\n",
    "        # Update weights\n",
    "        self.optimizer.apply_gradients(zip(gradients, trainable_vars))\n",
    "\n",
    "        # Update metrics (includes the metric that tracks the loss)\n",
    "        self.compiled_metrics.update_state(y, y_pred)\n",
    "\n",
    "        # Return a dict mapping metric names to curent value\n",
    "        return {m.name: m.result() for m in self.metrics}\n",
    "\n",
    "# Construct and compile an instance of CustomModel\n"
   ]
  }
 ],
 "metadata": {
  "interpreter": {
   "hash": "e0bcce3b9f8d091a44021cb8a03985b3e8b40c6ce23beeff54c946abf41b93cd"
  },
  "kernelspec": {
   "display_name": "Python 3.8.6 64-bit",
   "language": "python",
   "name": "python3"
  },
  "language_info": {
   "codemirror_mode": {
    "name": "ipython",
    "version": 3
   },
   "file_extension": ".py",
   "mimetype": "text/x-python",
   "name": "python",
   "nbconvert_exporter": "python",
   "pygments_lexer": "ipython3",
   "version": "3.8.6"
  },
  "orig_nbformat": 4
 },
 "nbformat": 4,
 "nbformat_minor": 2
}
